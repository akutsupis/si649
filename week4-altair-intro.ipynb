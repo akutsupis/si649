{
 "cells": [
  {
   "cell_type": "markdown",
   "metadata": {
    "colab_type": "text",
    "id": "EAzZf61pu0Z4",
    "slideshow": {
     "slide_type": "slide"
    }
   },
   "source": [
    "# An introduction to Altair\n",
    "\n",
    "School of Information, University of Michigan"
   ]
  },
  {
   "cell_type": "markdown",
   "metadata": {
    "colab_type": "text",
    "id": "McaviwyMvFaQ",
    "slideshow": {
     "slide_type": "slide"
    }
   },
   "source": [
    "## Getting Started"
   ]
  },
  {
   "cell_type": "markdown",
   "metadata": {
    "colab_type": "text",
    "id": "8hT4uB3ku_Fs",
    "slideshow": {
     "slide_type": "skip"
    }
   },
   "source": [
    "In this tutorial we're going to walk you through the construction of visualizations using Altair--a tool to encode data using a Grammar of Graphics implementation (one called Vega-Lite). [Altair](https://altair-viz.github.io/) is a Python API to [Vega-Lite](https://vega.github.io/vega-lite/). When we code in Altair we are ultimately producing a data structure that tells Vega-Lite what to draw. Whatever is doable in Vega-Lite should be doable in Altair so you can always look at examples in one and figure out how to generate them in the other ([Vega-Lite Examples](https://vega.github.io/vega-lite/examples/) and [Altair Examples](https://altair-viz.github.io/gallery/index.html)). \n",
    "\n",
    "As a side note, Vega-Lite is a lighter variant of [Vega](https://vega.github.io/). Altair and Vega-Lite are equally capable. Vega, on the other hand, is much more full-featured but there is no API in Python at the moment. \n",
    "\n",
    "Internally, we are describing the visualization in a JSON object--a kind of data structure that has lists and dictionaries. This will allow the rendering system (the thing that draws on the screen) to intepret your Grammar of Graphics specficiation. You can always ask Altair to produce the Vega-Lite JSON object (and you can experiment directly with this JSON object in the [Vega/Vega-Lite Online editor](https://vega.github.io/editor/#/custom/vega).\n",
    "\n",
    "In addition to Python, there are other language layers for Vega-Lite. The most popular of which is the [Javascript library](https://github.com/vega/vega-lite-api). It's very similar to the Python version so it's fairly straightforward to translate. The reason we're going to prefer Altair over the Javascript implementation is largely due to the data analysis ecosystem we have in Python. Tools like Pandas make data manipulation, cleaning, and analysis much easier.\n",
    "\n",
    "We're going to try to cover some highlights of using Altair here, but very much encourage you to make use of online resources. Specifically:\n",
    "\n",
    "* A whole [online course](https://github.com/uwdata/visualization-curriculum) by the creators of Vega-Lite. In fact, they show you have to use both Altair and the Javascript API.\n",
    "* The [Altair tutorial](https://github.com/altair-viz/altair-tutorial) from the creator of Altair, Jake Vanderplas\n",
    "\n",
    "Both will be useful resources if you get stuck or need more examples.\n",
    "\n",
    "This particular tutorial will not cover interactivity or really sophisticated filtering/transformation. For the most part, we will either use data that's already in a form we want or get it into shape using Pandas.\n",
    "\n",
    "We will be using two datasets here, the standard \"cars\" dataset (which has miles per gallon, cost, country of origin, horse power, etc.) and an [\"indicators\" dataset](http://www.bigcitieshealth.org/) that has various pieces of data for many cities in the US over time. Everything from demographics to the number of food poisonings. We've cleaned up the data a little bit for this exercise but you can grab the full data from [this github](https://github.com/altair-viz/vega_datasets/tree/master/vega_datasets/_data).\n",
    "\n",
    "In this tutorial we will often slice-and-dice data to it's suitable for the examples we want to show. We will do this using [Pandas](https://pandas.pydata.org/pandas-docs/stable/index.html), a data manipulation library. Each block of code contains comments that explain the Pandas operations being used."
   ]
  },
  {
   "cell_type": "markdown",
   "metadata": {
    "colab_type": "text",
    "id": "wg46uP8Tu0aF",
    "slideshow": {
     "slide_type": "slide"
    }
   },
   "source": [
    "## 1. How we build a visualization"
   ]
  },
  {
   "cell_type": "code",
   "execution_count": null,
   "metadata": {
    "colab": {},
    "colab_type": "code",
    "id": "LOCmvYYmu0Z6",
    "slideshow": {
     "slide_type": "subslide"
    }
   },
   "outputs": [],
   "source": [
    "# 1.0 load up the libraries we need: you should have Altair 5.5.0\n",
    "import pandas as pd\n",
    "import altair as alt\n",
    "print(\"Altair version:\", alt.__version__)\n",
    "\n",
    "import pprint #Pretty printing - makes things look nicer\n",
    "pp = pprint.PrettyPrinter(indent=4)"
   ]
  },
  {
   "cell_type": "markdown",
   "metadata": {
    "colab_type": "text",
    "id": "fFoNchyVu0aH",
    "slideshow": {
     "slide_type": "skip"
    }
   },
   "source": [
    "Before we start building a chart, it will be helpful to understand what the Altair library does. As you write code in Altair, the system translates your code to the JSON format that Vega-Lite understands (and can render).\n",
    "\n",
    "For example, let's say we want to use color to encode the transmission type of the car (it's either \"automatic\" or \"manual\", 1 or 0). To do so, we we use the \"Color\" method of the Altair library.\n",
    "\n",
    "Run the code below to see what happens:"
   ]
  },
  {
   "cell_type": "code",
   "execution_count": null,
   "metadata": {
    "colab": {
     "base_uri": "https://localhost:8080/",
     "height": 85
    },
    "colab_type": "code",
    "id": "edrDnTvQu0aI",
    "outputId": "4f382f04-9fdd-467d-ae7e-8b4e48f1f356",
    "slideshow": {
     "slide_type": "subslide"
    }
   },
   "outputs": [],
   "source": [
    "# 1.1 - The Altair code for producing a Color encoding on the transmission variable, data type - nominal\n",
    "# output - Json that Vega-lite understands\n",
    "\n",
    "alt.Color('transmission',type='nominal') "
   ]
  },
  {
   "cell_type": "markdown",
   "metadata": {
    "colab_type": "text",
    "id": "4imGWwHVu0aM",
    "slideshow": {
     "slide_type": "skip"
    }
   },
   "source": [
    "What you are seeing is the JSON corresponding to \"snippet\" of GoG Vega-Lite code. Remember, we need to describe: <font color='#55AAE7'>data</font>, <font color=\"#F8F32B\">encoding/channels</font>, and <font color=\"#F4998D\">marks</font>. Here, we're describing the <font color='#55AAE7'>data</font> (\"transmission\" which is a \"nominal\" variable) and the <font color=\"#F8F32B\">encoding/channel</font> (color). In English: \"encode the <font color='#55AAE7'>nominal transmission</font> variable using <font color=\"#F8F32B\">color</font>.\"\n",
    "\n",
    "A couple of things to note.\n",
    "\n",
    "First, although Vega-Lite and Altair will try to infer the type of the data (is transmission ordinal? nominal? time?) we can override the decision. In this case, our data file uses 0 and 1 to indicate manual or automatic. So we want to make sure that Altair understands that it's a nominal cateogry and not ordinal or quantiative.\n",
    "\n",
    "This is important: Altair/Vega-Lite will use defaults or its best guess unless you override it. Most often you will be happy with those defaults and best guesses but there will be times when you want to force the system to do something else (use different colors, transform the data in a certain way, use different kinds of axes, etc.).\n",
    "\n",
    "Second, notice we haven't actually loaded any data yet. Altair won't give you error messages until you try to render the Chart.  Here's an example that is encoding the MPG (miles per gallon) using the X coordinate.\n",
    "\n",
    "Third, the quotes around the variables are in single quotes ' ', but they are interchangeable with double quotes \" \" which work exactly the same."
   ]
  },
  {
   "cell_type": "code",
   "execution_count": null,
   "metadata": {
    "colab": {
     "base_uri": "https://localhost:8080/",
     "height": 68
    },
    "colab_type": "code",
    "id": "W96qheHFu0aO",
    "outputId": "5442d3f8-4b8f-41ed-f0a3-a809f9a41ca9",
    "slideshow": {
     "slide_type": "subslide"
    }
   },
   "outputs": [],
   "source": [
    "#1.2 Encoding MPG on the \"X\" channel\n",
    "\n",
    "alt.X(\"MPG\")"
   ]
  },
  {
   "cell_type": "markdown",
   "metadata": {
    "colab_type": "text",
    "id": "H6BVDvbHu0aU",
    "slideshow": {
     "slide_type": "subslide"
    }
   },
   "source": [
    "Ok, let's try to build an actual visualization. First, let's load some data:"
   ]
  },
  {
   "cell_type": "code",
   "execution_count": null,
   "metadata": {
    "colab": {
     "base_uri": "https://localhost:8080/",
     "height": 204
    },
    "colab_type": "code",
    "id": "vIuPmtmpu0aV",
    "outputId": "c8ed699a-b6ad-4024-a286-71d1bea6331b",
    "slideshow": {
     "slide_type": "fragment"
    }
   },
   "outputs": [],
   "source": [
    "#1.3 Let's grab some data and take a look - Cars databases\n",
    "\n",
    "mtcars = pd.read_csv(\"https://raw.githubusercontent.com/eytanadar/si649public/master/lab3/data/mtcars.csv\")\n",
    "\n",
    "# Grab a few rows at random\n",
    "\n",
    "mtcars.sample(5)"
   ]
  },
  {
   "cell_type": "markdown",
   "metadata": {
    "colab_type": "text",
    "id": "QHOy5BvKu0ac",
    "slideshow": {
     "slide_type": "skip"
    }
   },
   "source": [
    "Remember, to get a reasonable chart we need we need to describe what we want to use <font color='#55AAE7'>data</font>, <font color=\"#F8F32B\">encoding/channels</font>, and <font color=\"#F4998D\">marks</font>.\n",
    "\n",
    "To pick the kind of visualization we want, we need to make the right choice on the \"mark.\" Do we want points (for a scatter plot)? lines (for a time series)? or bars (for a bar chart or heatmap)? See your choices [here](https://altair-viz.github.io/user_guide/marks/index.html).\n",
    "\n",
    "Let's start easy. Let's make a scatterplot. We will tell Altair that we want a new Chart and that we will be using the mtcars dataframe. We will also, at minimum, neeed to pick the kind of mark. Scatterplots use points (a dot for every car in this case), so here's the code:"
   ]
  },
  {
   "cell_type": "code",
   "execution_count": null,
   "metadata": {
    "colab": {
     "base_uri": "https://localhost:8080/",
     "height": 51
    },
    "colab_type": "code",
    "id": "Kw1pwNEnu0ad",
    "outputId": "71ca4779-6ddb-4c2e-e11f-0e96b473bc73",
    "slideshow": {
     "slide_type": "subslide"
    }
   },
   "outputs": [],
   "source": [
    "#1.4  Encode the dataset using points [data- mtcars,encoding-None,Marks= point]\n",
    "\n",
    "alt.Chart(mtcars).mark_point()"
   ]
  },
  {
   "cell_type": "markdown",
   "metadata": {
    "colab_type": "text",
    "id": "OO0vkJxMu0ai",
    "slideshow": {
     "slide_type": "skip"
    }
   },
   "source": [
    "Not very interesting... what we see is something like this:\n",
    "    \n",
    "![A dot](https://raw.githubusercontent.com/eytanadar/si649public/master/lab3/assets/simplestscatter.png)\n",
    "\n",
    "(If you try to click on the little icon you may not even be able to see anything because the cell will be cut off)\n",
    "\n",
    "The chart is exactly what we asked for. There is one dot for every car in the dataset. Unfortunately, because we didn't say how to encode the data (or even what actual pieces of the data we wanted), Altair went with some defaults: all points were placed at coordinate 0,0 and rendered with the default style (a blue outlined circle).\n",
    "\n",
    "If you're curious you can take a look at what JSON Altair generated for this call:"
   ]
  },
  {
   "cell_type": "code",
   "execution_count": null,
   "metadata": {
    "colab": {},
    "colab_type": "code",
    "id": "G_16tAHqu0aj",
    "slideshow": {
     "slide_type": "subslide"
    }
   },
   "outputs": [],
   "source": [
    "#1.5  What does the Vega-lite JSON look like?\n",
    "\n",
    "pp.pprint(alt.Chart(mtcars).mark_point().to_json())\n",
    "\n"
   ]
  },
  {
   "cell_type": "markdown",
   "metadata": {
    "colab_type": "text",
    "id": "13jAGsBvu0am",
    "slideshow": {
     "slide_type": "subslide"
    }
   },
   "source": [
    "Ok, let's go with something a bit more interesting. We'll build a scatterplot comparing miles per gallon to car weight but let's just start with one variable, MPG, that we'll put on the x-axis.  Abstractly:\n",
    "\n",
    "* <font color=\"#F4998D\">**Mark:    Point**</font>\n",
    "* <font color='#55AAE7'>**Data:**</font>\n",
    "    * <font color='#55AAE7'>**MPG:\t\tquantitative**</font>\n",
    "* <font color=\"#F8F32B\">**Encoding:**</font>\n",
    "    * <font color=\"#F8F32B\">**MPG:\t\tx position**</font>\n"
   ]
  },
  {
   "cell_type": "markdown",
   "metadata": {
    "slideshow": {
     "slide_type": "subslide"
    }
   },
   "source": [
    "Or in English: \"Draw a 1-D scatterplot with a point for every car where the miles per gallon of the car determine the placement of the point.\"\n",
    "\n",
    "Or in code..."
   ]
  },
  {
   "cell_type": "code",
   "execution_count": null,
   "metadata": {
    "colab": {
     "base_uri": "https://localhost:8080/",
     "height": 83
    },
    "colab_type": "code",
    "id": "tY1U_snzu0an",
    "outputId": "4269f8a3-354d-4545-a02d-b9913487101c",
    "slideshow": {
     "slide_type": "-"
    }
   },
   "outputs": [],
   "source": [
    "#1.6  Show MPG on the x-axis\n",
    "\n",
    "alt.Chart(mtcars).mark_point().encode(\n",
    "    #alt.X('MPG',type='quantitative')\n",
    "    x='MPG:Q'\n",
    ")"
   ]
  },
  {
   "cell_type": "markdown",
   "metadata": {
    "colab_type": "text",
    "id": "mL5YU02vu0ar",
    "slideshow": {
     "slide_type": "skip"
    }
   },
   "source": [
    "To break this apart: We grabbed the Altair library (`alt`) and told it to create a chart using the mtcars data frame (`.Chart(mtcars)`). We then said, for this chart use points as the mark style (`.mark_point`). We want to encode the points using the X location (`.encode(alt.X(`) as determined by the miles per gallon (`'MPG'`) variable which is a quantitative variable (`,type='quantitative'))`).\n",
    "\n",
    "A side note: strictly speaking, we could have used `mark_circle` instead of `mark_point` if all we ever wanted were circle shapes. We're going to switch the shape later so we'll just keep using `mark_point`.\n",
    "\n",
    "Notice that we get a nice visualization with an axis and axis label and we didn't need to do much work to get it. In fact, we could even do less work, there's a shortcut to specify the variable type (the `:Q` at the end of the variable name):"
   ]
  },
  {
   "cell_type": "code",
   "execution_count": null,
   "metadata": {
    "colab": {
     "base_uri": "https://localhost:8080/",
     "height": 83
    },
    "colab_type": "code",
    "id": "e8D8Ky-Au0as",
    "outputId": "05c9e300-2e3f-41cf-bec9-8478ce8f4902",
    "slideshow": {
     "slide_type": "subslide"
    }
   },
   "outputs": [],
   "source": [
    "#1.7  We can also use a shortcut to indicate the variable type\n",
    "\n",
    "alt.Chart(mtcars).mark_point().encode(\n",
    "    alt.X('MPG:O',title='Miles Per Gallon')\n",
    ")"
   ]
  },
  {
   "cell_type": "markdown",
   "metadata": {
    "slideshow": {
     "slide_type": "skip"
    }
   },
   "source": [
    "You might run into a few alternative versions of encoding. The ```alt.X(...)``` variant will come in handy later when we need to set additional parameters (e.g. bins, axis properties). But the others are great shorthand if you're happy with defaults. "
   ]
  },
  {
   "cell_type": "markdown",
   "metadata": {
    "colab_type": "text",
    "id": "Qcfl2Rzsu0av",
    "slideshow": {
     "slide_type": "subslide"
    }
   },
   "source": [
    "```Python\n",
    "alt.Chart(mtcars).mark_point().encode(\n",
    "    alt.X('MPG')\n",
    ")```\n",
    "\n",
    "```Python\n",
    "alt.Chart(mtcars).mark_point().encode(\n",
    "    x='MPG'\n",
    ")```\n",
    "\n",
    "```Python\n",
    "alt.Chart(mtcars).mark_point().encode(\n",
    "    x='MPG:Q'\n",
    ")```"
   ]
  },
  {
   "cell_type": "markdown",
   "metadata": {
    "slideshow": {
     "slide_type": "skip"
    }
   },
   "source": [
    "All these versions will produce the same visualization. The longest form has extra arguments that we will later use to have finer control of the look and feel or the transformations on the data. But you may see all these variants out in the wild.\n",
    "\n",
    "Last step: let's make this a true scatter plot with 2 dimensions. We will use the weight for the Y-axis."
   ]
  },
  {
   "cell_type": "code",
   "execution_count": null,
   "metadata": {
    "colab": {
     "base_uri": "https://localhost:8080/",
     "height": 368
    },
    "colab_type": "code",
    "id": "AnJ0-S_Hu0ax",
    "outputId": "a5dc192d-390f-4a85-f0d7-f3727c0dce87",
    "slideshow": {
     "slide_type": "subslide"
    }
   },
   "outputs": [],
   "source": [
    "# 1.8  Visualize MPG and weight on a scatter plot\n",
    "\n",
    "alt.Chart(mtcars).mark_point().encode(\n",
    "    x='MPG',\n",
    "    y='weight'\n",
    ")\n",
    "\n",
    "# Debugging - If you get an error message and python doesn't give you enough information on what the error is,click on ...  and 'open in Vega editor' to see more information.\n"
   ]
  },
  {
   "cell_type": "markdown",
   "metadata": {
    "colab_type": "text",
    "id": "LTCbPM1-u0a1",
    "slideshow": {
     "slide_type": "slide"
    }
   },
   "source": [
    "## 2. Variants"
   ]
  },
  {
   "cell_type": "markdown",
   "metadata": {
    "slideshow": {
     "slide_type": "skip"
    }
   },
   "source": [
    "Let's try some basic variants on the plot. \n",
    "\n",
    "Maybe we want to compare different transmission types. For this, we can use the color encoding for the transmission data: "
   ]
  },
  {
   "cell_type": "code",
   "execution_count": null,
   "metadata": {
    "colab": {
     "base_uri": "https://localhost:8080/",
     "height": 368
    },
    "colab_type": "code",
    "id": "XAOj5pBpu0a2",
    "outputId": "283ab589-f8c4-46b1-dc8f-744b170970be",
    "slideshow": {
     "slide_type": "subslide"
    }
   },
   "outputs": [],
   "source": [
    "#2.1 MPG, weight, vs. transmission\n",
    "\n",
    "alt.Chart(mtcars).mark_point().encode(\n",
    "    x='MPG',\n",
    "    y=\"weight\",\n",
    "    color=\"transmission\"\n",
    ")"
   ]
  },
  {
   "cell_type": "markdown",
   "metadata": {
    "colab_type": "text",
    "id": "OUbr-XVru0a8",
    "slideshow": {
     "slide_type": "skip"
    }
   },
   "source": [
    "This, unfortunately, isn't quite right. Transmission in our dataset is 0 or 1. Altair understood this to mean that the data was quantiative and encoded color on the default blue gradient. We want transmission to be a categorical or nominal variable so we can use:"
   ]
  },
  {
   "cell_type": "code",
   "execution_count": null,
   "metadata": {
    "colab": {
     "base_uri": "https://localhost:8080/",
     "height": 368
    },
    "colab_type": "code",
    "id": "bE0-xM_xu0a9",
    "outputId": "ce83f597-e488-4726-a44d-596495a70ce2",
    "slideshow": {
     "slide_type": "subslide"
    }
   },
   "outputs": [],
   "source": [
    "#2.2 Fix a wrong inference, transmission is nominal\n",
    "\n",
    "alt.Chart(mtcars).mark_point().encode(\n",
    "    x='MPG',\n",
    "    y=\"weight\",\n",
    "    color=\"transmission:N\"\n",
    ")"
   ]
  },
  {
   "cell_type": "markdown",
   "metadata": {
    "colab_type": "text",
    "id": "Iud0Va1Lu0bH",
    "slideshow": {
     "slide_type": "skip"
    }
   },
   "source": [
    "This would be a bit easier to read if the dots were filled so we could better see the colors. Luckily we can easily override the \"global\" properties of points to make them filled (`.mark_point(filled=True)`). Alternatively, you could use `.mark_circle`, which is a filled `.mark_point`. You can read more about this and see more options on the [Altair website](https://altair-viz.github.io/user_guide/customization.html)."
   ]
  },
  {
   "cell_type": "code",
   "execution_count": null,
   "metadata": {
    "colab": {
     "base_uri": "https://localhost:8080/",
     "height": 368
    },
    "colab_type": "code",
    "id": "LQ7bKsGCu0bI",
    "outputId": "7423d135-4309-4c1b-a098-b028ada4a1d9",
    "slideshow": {
     "slide_type": "subslide"
    }
   },
   "outputs": [],
   "source": [
    "#2.3 Change the look of the marks (filled)\n",
    "\n",
    "alt.Chart(mtcars).mark_point(filled=True).encode(\n",
    "    x='MPG',\n",
    "    y=\"weight\",\n",
    "    color=\"transmission:N\"\n",
    ")"
   ]
  },
  {
   "cell_type": "markdown",
   "metadata": {
    "colab_type": "text",
    "id": "pKMJJslXu0bM",
    "slideshow": {
     "slide_type": "skip"
    }
   },
   "source": [
    "Let's say we're working with a black and white printer so color isn't the best encoding. Modify the chart definition to use shape instead of color (you might want to sneak a peak at the different encoding channels you have access to on [Altair site](https://altair-viz.github.io/user_guide/encodings/index.html). Try to make the default size a bit larger so the points are easier to see."
   ]
  },
  {
   "cell_type": "code",
   "execution_count": null,
   "metadata": {},
   "outputs": [],
   "source": [
    "alt.Chart(mtcars).mark_point(filled=True).encode(\n",
    "    x='MPG',\n",
    "    y=\"weight\",\n",
    "    shape=\"transmission:N\",\n",
    "    size='cylinders'\n",
    ")"
   ]
  },
  {
   "cell_type": "markdown",
   "metadata": {
    "colab_type": "text",
    "id": "m-zv2Lb8u0bu",
    "slideshow": {
     "slide_type": "slide"
    }
   },
   "source": [
    "## 3. Bars and Binning"
   ]
  },
  {
   "cell_type": "markdown",
   "metadata": {
    "slideshow": {
     "slide_type": "skip"
    }
   },
   "source": [
    "Let's try to build some bar charts. These will require switching to a different kind of mark (`mark_bar` in this case).  Let's plot the MPG for each car:"
   ]
  },
  {
   "cell_type": "code",
   "execution_count": null,
   "metadata": {
    "colab": {
     "base_uri": "https://localhost:8080/",
     "height": 444
    },
    "colab_type": "code",
    "id": "EYCQ72Qvu0bv",
    "outputId": "89fa5502-4003-4e1c-a040-d552a30f30f8",
    "slideshow": {
     "slide_type": "subslide"
    }
   },
   "outputs": [],
   "source": [
    "#3.1  use the \"bar\" mark to plot model to MPG\n",
    "\n",
    "alt.Chart(mtcars).mark_bar().encode(\n",
    "    x='model',\n",
    "    y='MPG'\n",
    ")"
   ]
  },
  {
   "cell_type": "markdown",
   "metadata": {
    "colab_type": "text",
    "id": "GBlpkxWbu0b_",
    "slideshow": {
     "slide_type": "skip"
    }
   },
   "source": [
    "It's a bit hard to read the text. See if you can rotate the plot:"
   ]
  },
  {
   "cell_type": "code",
   "execution_count": null,
   "metadata": {
    "colab": {
     "base_uri": "https://localhost:8080/",
     "height": 703
    },
    "colab_type": "code",
    "id": "QMprwYj2u0cB",
    "outputId": "73af254b-baa9-4385-8340-6a51bd904415",
    "slideshow": {
     "slide_type": "subslide"
    }
   },
   "outputs": [],
   "source": [
    "#3.2 Rotate the chart\n",
    "\n",
    "alt.Chart(mtcars).mark_bar().encode(\n",
    "    y='model',\n",
    "    x='MPG'\n",
    ")"
   ]
  },
  {
   "cell_type": "markdown",
   "metadata": {
    "colab_type": "text",
    "id": "N3ZIv3Juu0cH",
    "slideshow": {
     "slide_type": "skip"
    }
   },
   "source": [
    "Often bar charts are used to \"bin\" data. For example, let's say we want to plot a bar chart of the number of cars in our dataset that are either manual or automatic. To do this, we would need to bin based on transmission type. We could use Pandas to do this. Here's one way to do this:"
   ]
  },
  {
   "cell_type": "code",
   "execution_count": null,
   "metadata": {
    "colab": {
     "base_uri": "https://localhost:8080/",
     "height": 111
    },
    "colab_type": "code",
    "id": "kwf9JdtLxlAH",
    "outputId": "036d32b6-6c56-4ceb-f21c-60ac840cb195",
    "slideshow": {
     "slide_type": "subslide"
    }
   },
   "outputs": [],
   "source": [
    "#3.3  Bin the cars to count how many cars have a specific transmission\n",
    "#     We'll do this in Pandas first\n",
    "# reset-index: don't want transmission to be in Index, only transmission and model variable\n",
    "\n",
    "binned = mtcars.groupby(\"transmission\").count().reset_index()[['transmission','model']]\n",
    "binned = binned.rename(columns={'model':'count'})\n",
    "binned"
   ]
  },
  {
   "cell_type": "markdown",
   "metadata": {
    "colab_type": "text",
    "id": "8Nj8jKwdu0cL",
    "slideshow": {
     "slide_type": "skip"
    }
   },
   "source": [
    "From this, we can build our bar chart:"
   ]
  },
  {
   "cell_type": "code",
   "execution_count": null,
   "metadata": {
    "colab": {
     "base_uri": "https://localhost:8080/",
     "height": 364
    },
    "colab_type": "code",
    "id": "KFpJ089ZxtJf",
    "outputId": "9ba548de-b7e8-4cc6-d2ce-f15c0f8e5faa",
    "slideshow": {
     "slide_type": "subslide"
    }
   },
   "outputs": [],
   "source": [
    "#3.4 Plot transmission vs. Count\n",
    "\n",
    "alt.Chart(binned).mark_bar().encode(\n",
    "    x='transmission:N',\n",
    "    y='count'\n",
    ")"
   ]
  },
  {
   "cell_type": "markdown",
   "metadata": {
    "colab_type": "text",
    "id": "5plzwDcWu0cO",
    "slideshow": {
     "slide_type": "skip"
    }
   },
   "source": [
    "Because this kind of operation is quite common, the Grammar of Graphics (generally), and Altair (specifically), provide an easier way to do this. \n",
    "\n",
    "We can tell Altair that we would like to bin our data (the default behavior for a nominal variable is to bin based on the categorical value... in this case 0 or 1).\n",
    "\n",
    "`x=alt.X('transmission:N',bin=True)`\n",
    "\n",
    "This will group all cars into two buckets: 1 and 0. At that point, we have to tell Altair what we want to know about each of those buckets. In this case we just want to know how many cars of each type we have. So we can use the special operation `count()`:"
   ]
  },
  {
   "cell_type": "code",
   "execution_count": null,
   "metadata": {
    "colab": {
     "base_uri": "https://localhost:8080/",
     "height": 387
    },
    "colab_type": "code",
    "id": "O9xBN9MAu0cP",
    "outputId": "d055e2d6-b490-42e6-ce0c-6a274ef75e76",
    "slideshow": {
     "slide_type": "subslide"
    }
   },
   "outputs": [],
   "source": [
    "#3.5  Now in Altair\n",
    "\n",
    "alt.Chart(mtcars).mark_bar().encode(\n",
    "    x=alt.X('transmission:N',bin=True),\n",
    "    y=alt.Y('count()'),\n",
    ")"
   ]
  },
  {
   "cell_type": "markdown",
   "metadata": {
    "colab_type": "text",
    "id": "e9xJxYuYu0cT",
    "slideshow": {
     "slide_type": "skip"
    }
   },
   "source": [
    "Note that we can ask lots of other things about data in each bin. For example, we can ask for the average MPG (replace `count()` with `mean(MPG)`).\n",
    "\n",
    "Or we could ask for the max horse power (`max(HP)`) or the median cylinders or any number of other aggregations. (see more on the [Altair site](https://altair-viz.github.io/user_guide/transform/index.html)). Try some of your own here:"
   ]
  },
  {
   "cell_type": "code",
   "execution_count": null,
   "metadata": {
    "colab": {
     "base_uri": "https://localhost:8080/",
     "height": 387
    },
    "colab_type": "code",
    "id": "ae-pSFyju0cW",
    "outputId": "4688a067-49ed-4379-e6a0-eb15dda68476",
    "slideshow": {
     "slide_type": "subslide"
    }
   },
   "outputs": [],
   "source": [
    "#3.6 Can compute different things for each bin\n",
    "#    For example, the max HP for each transmission type\n",
    "\n",
    "alt.Chart(mtcars).mark_bar().encode(\n",
    "    x=alt.X('transmission:N',bin=True),\n",
    "    y=alt.Y('min(HP)')\n",
    ")"
   ]
  },
  {
   "cell_type": "markdown",
   "metadata": {
    "colab_type": "text",
    "id": "HToL5065u0ce",
    "slideshow": {
     "slide_type": "skip"
    }
   },
   "source": [
    "We can bin data based on numerical properties as well. For example, we can generate a histogram of weights for our cars:"
   ]
  },
  {
   "cell_type": "code",
   "execution_count": null,
   "metadata": {
    "colab": {
     "base_uri": "https://localhost:8080/",
     "height": 368
    },
    "colab_type": "code",
    "id": "u1IIgY1Ru0cf",
    "outputId": "47ce1630-7461-45d6-909c-26edd016dd90",
    "slideshow": {
     "slide_type": "subslide"
    }
   },
   "outputs": [],
   "source": [
    "#3.7  Generate a simple histogram on a Quantitative variable\n",
    "#     bin on Weight and count how many in each bin\n",
    "\n",
    "alt.Chart(mtcars).mark_bar().encode(\n",
    "    x=alt.X('weight',bin=True),\n",
    "    y=alt.Y('count()')\n",
    ")"
   ]
  },
  {
   "cell_type": "markdown",
   "metadata": {
    "colab_type": "text",
    "id": "rpS16CNuu0cn",
    "slideshow": {
     "slide_type": "skip"
    }
   },
   "source": [
    "As with most things in Altair, bins can be modified by using a special function to generate additional grammar of graphics commands. Bins, in particular, can be modified with the [BinParams](https://altair-viz.github.io/user_guide/generated/core/altair.BinParams.html#altair.BinParams) method. A simple example is making more bins:"
   ]
  },
  {
   "cell_type": "code",
   "execution_count": null,
   "metadata": {
    "colab": {
     "base_uri": "https://localhost:8080/",
     "height": 368
    },
    "colab_type": "code",
    "id": "FjROYXgAu0cp",
    "outputId": "6bdccfe7-bc60-4efb-fb24-257616d2071d",
    "slideshow": {
     "slide_type": "subslide"
    }
   },
   "outputs": [],
   "source": [
    "#3.8 We can control properties of the bin using the BinParams object\n",
    "\n",
    "alt.Chart(mtcars).mark_bar().encode(\n",
    "    x=alt.X('weight',bin=alt.BinParams(maxbins=20)),\n",
    "    y=alt.Y('count()')\n",
    ")"
   ]
  },
  {
   "cell_type": "markdown",
   "metadata": {
    "colab_type": "text",
    "id": "cWxMZGtAu0cx",
    "slideshow": {
     "slide_type": "slide"
    }
   },
   "source": [
    "## 4. Sorting"
   ]
  },
  {
   "cell_type": "markdown",
   "metadata": {
    "slideshow": {
     "slide_type": "skip"
    }
   },
   "source": [
    "In addition to binning, Altair also supports other transformations. Sorting is one of the most useful ones and is fairly easy. Below, we take our original bar chart showing the MPG for each car and add a sort on the Y-axis (the cars). We use the `EncodingSortField` function indicating that we want the models sorted by MPG (in descending order). More information on sorting can be found [here](https://altair-viz.github.io/user_guide/generated/core/altair.EncodingSortField.html)."
   ]
  },
  {
   "cell_type": "code",
   "execution_count": null,
   "metadata": {
    "colab": {
     "base_uri": "https://localhost:8080/"
    },
    "colab_type": "code",
    "id": "_q0DXA22u0cy",
    "outputId": "12580a9e-e068-4f79-aa40-4d8f3f4e70e9",
    "slideshow": {
     "slide_type": "subslide"
    }
   },
   "outputs": [],
   "source": [
    "#4.1  Let's try to sort\n",
    "\n",
    "alt.Chart(mtcars).mark_bar().encode(\n",
    "    x='MPG',\n",
    "    y=alt.Y('model',\n",
    "        sort=alt.EncodingSortField(\n",
    "            field=\"MPG\",            # The field to use for the sort\n",
    "            order=\"descending\"      # The order to sort in\n",
    "        )\n",
    "    )\n",
    ")"
   ]
  },
  {
   "cell_type": "markdown",
   "metadata": {
    "colab_type": "text",
    "id": "EUl-HV7mu0c1",
    "slideshow": {
     "slide_type": "slide"
    }
   },
   "source": [
    "## 5. Other marks"
   ]
  },
  {
   "cell_type": "markdown",
   "metadata": {
    "slideshow": {
     "slide_type": "skip"
    }
   },
   "source": [
    "Before we leave our cars dataset, we illustrate one other mark type, `mark_rect` which can be used for heatmap style visualizations. This structure is useful when we want to bin in two different dimensions. For example, we might want to know how many cars have certain combinations of MPG and HP. This would be:"
   ]
  },
  {
   "cell_type": "code",
   "execution_count": null,
   "metadata": {
    "colab": {
     "base_uri": "https://localhost:8080/",
     "height": 368
    },
    "colab_type": "code",
    "id": "bfCcrTh-u0c3",
    "outputId": "82455d93-d12b-4d4a-9e8d-f72fc1e83a20",
    "slideshow": {
     "slide_type": "subslide"
    }
   },
   "outputs": [],
   "source": [
    "#5.1  Make a heatmap to see the combination of cars\n",
    "#     with certain MPG/HP\n",
    "\n",
    "alt.Chart(mtcars).mark_rect().encode(\n",
    "    x=alt.X('MPG', bin=True),\n",
    "    y=alt.Y('HP', bin=True),\n",
    "    color='count()'\n",
    ")"
   ]
  },
  {
   "cell_type": "markdown",
   "metadata": {
    "colab_type": "text",
    "id": "HTASSY04TR10",
    "slideshow": {
     "slide_type": "slide"
    }
   },
   "source": [
    "## 6. Compound Chart "
   ]
  },
  {
   "cell_type": "markdown",
   "metadata": {
    "slideshow": {
     "slide_type": "skip"
    }
   },
   "source": [
    "Another cool aspect of Altair is that it's easy to put visualizations together. This is called [compound chart](https://altair-viz.github.io/user_guide/compound_charts.html). For example, the \"|\" operation will put two charts side by side whereas the \"&\" will put one on top of the other. You can combine these in various ways."
   ]
  },
  {
   "cell_type": "code",
   "execution_count": null,
   "metadata": {
    "colab": {
     "base_uri": "https://localhost:8080/",
     "height": 705
    },
    "colab_type": "code",
    "id": "bxhQ3On0d_5d",
    "outputId": "4181a2ec-5a5a-4077-9a93-f58fe14f3de6",
    "slideshow": {
     "slide_type": "subslide"
    }
   },
   "outputs": [],
   "source": [
    "#6.1 Put two bar charts side by side: 1) MPG v model and 2) HP v. model\n",
    "\n",
    "model_mpg= alt.Chart(mtcars).mark_bar().encode(\n",
    "    x=alt.X('MPG'),\n",
    "    y=alt.Y(\"model\")\n",
    ")\n",
    "model_hp= alt.Chart(mtcars).mark_bar().encode(\n",
    "    x=alt.X('HP'),\n",
    "    y=alt.Y(\"model\")\n",
    ")\n",
    "\n",
    "# model_mpg|model_hp\n",
    "\n",
    "alt.hconcat(model_mpg,model_hp) # alternative\n"
   ]
  },
  {
   "cell_type": "code",
   "execution_count": null,
   "metadata": {
    "colab": {
     "base_uri": "https://localhost:8080/",
     "height": 1000
    },
    "colab_type": "code",
    "id": "I7WtIOziepPb",
    "outputId": "27f4ad81-eef7-43da-872f-845904544bb5",
    "slideshow": {
     "slide_type": "subslide"
    }
   },
   "outputs": [],
   "source": [
    "#6.2 One above the other\n",
    "#model_mpg & model_hp\n",
    "alt.vconcat(model_mpg,model_hp) # alternative"
   ]
  },
  {
   "cell_type": "code",
   "execution_count": null,
   "metadata": {
    "colab": {
     "base_uri": "https://localhost:8080/",
     "height": 705
    },
    "colab_type": "code",
    "id": "HPzvQzlHe0In",
    "outputId": "e435c498-9173-4e7c-9fec-036573bb4606",
    "slideshow": {
     "slide_type": "subslide"
    }
   },
   "outputs": [],
   "source": [
    "#6.3 Force a common (shared) axis\n",
    "(model_mpg|model_hp).resolve_scale(x=\"shared\")"
   ]
  },
  {
   "cell_type": "code",
   "execution_count": null,
   "metadata": {},
   "outputs": [],
   "source": [
    "#\n",
    "chart = alt.hconcat() # or hconcat\n",
    "for x in [model_hp,model_mpg]:\n",
    "    chart &= x # or &=\n",
    "chart\n"
   ]
  },
  {
   "cell_type": "markdown",
   "metadata": {},
   "source": [
    "What if we share the X axis instead of the y?"
   ]
  },
  {
   "cell_type": "code",
   "execution_count": null,
   "metadata": {},
   "outputs": [],
   "source": [
    "#6.4 Force a common (shared) axis\n",
    "(model_mpg|model_hp).resolve_scale(x=\"shared\")"
   ]
  },
  {
   "cell_type": "markdown",
   "metadata": {
    "colab_type": "text",
    "id": "8attNdcfu0fW",
    "slideshow": {
     "slide_type": "slide"
    }
   },
   "source": [
    "## 7. Styling"
   ]
  },
  {
   "cell_type": "markdown",
   "metadata": {
    "slideshow": {
     "slide_type": "subslide"
    }
   },
   "source": [
    "### 7.1 DIY Option"
   ]
  },
  {
   "cell_type": "markdown",
   "metadata": {
    "slideshow": {
     "slide_type": "skip"
    }
   },
   "source": [
    "We end with a note that while many of the defaults of Altair are reasonable there are situations that we need to override these either for aesthetic or more practical reasons. Take a look at the Altair documentation. Chances are you can modify the chart to look the way you want."
   ]
  },
  {
   "cell_type": "code",
   "execution_count": null,
   "metadata": {
    "colab": {
     "base_uri": "https://localhost:8080/",
     "height": 739
    },
    "colab_type": "code",
    "id": "-tIE1P6Vu0fW",
    "outputId": "c2f47c9e-3dc3-4fb2-efd5-2e45081435d0",
    "slideshow": {
     "slide_type": "subslide"
    }
   },
   "outputs": [],
   "source": [
    "#7.1 color, axis\n",
    "model_mpg= alt.Chart(mtcars,title=\"Mile Per Gallon\").mark_bar(height=5).encode(\n",
    "    x=alt.X('MPG'),\n",
    "    y=alt.Y(\"model\",           sort=alt.EncodingSortField(\n",
    "            field=\"model\",  # The field to use for the sort\n",
    "            order=\"descending\"  # The order to sort in\n",
    "        ))\n",
    ")\n",
    "model_hp= alt.Chart(mtcars,title=\"Horse Power\").mark_bar(color=\"pink\",opacity=.7).encode(\n",
    "    x=alt.X('HP'),\n",
    "    y=alt.Y(\"model\", axis=None,         sort=alt.EncodingSortField(\n",
    "            field=\"model\",  # The field to use for the sort\n",
    "            order=\"descending\"  # The order to sort in\n",
    "        ))\n",
    ")\n"
   ]
  },
  {
   "cell_type": "code",
   "execution_count": null,
   "metadata": {
    "slideshow": {
     "slide_type": "subslide"
    }
   },
   "outputs": [],
   "source": [
    "# Now plot it, side by side\n",
    "\n",
    "(model_mpg|model_hp).resolve_scale(y='shared').properties(\n",
    "    title=\"MPG and HP\"\n",
    ")"
   ]
  },
  {
   "cell_type": "markdown",
   "metadata": {
    "slideshow": {
     "slide_type": "subslide"
    }
   },
   "source": [
    "### 7.1 Themes"
   ]
  },
  {
   "cell_type": "markdown",
   "metadata": {
    "slideshow": {
     "slide_type": "skip"
    }
   },
   "source": [
    "Vega-lite has a number of built-in themes (you can also make your own if you want). These themes provide a shortcut to creating visualizations that are styled in specific ways. For example, you can make your visualization look like ggplot, 538, vox, etc. The list of current themes is on the [vega-themes](https://github.com/vega/vega-themes) site. The appeal of using themes is that they are \"activated\" for all future visualizations until you turn them off.\n",
    "\n",
    "If you would like to make your own, you will need to define the theme and then \"register\" it (give it a name). A good blog post that documents this is [here](https://towardsdatascience.com/consistently-beautiful-visualizations-with-altair-themes-c7f9f889602).  You will basically be creating a JSON object that describes how you want things to look colors/fonts/etc. (actually, you'll be describing only the things that you want to change from the default)."
   ]
  },
  {
   "cell_type": "code",
   "execution_count": null,
   "metadata": {
    "slideshow": {
     "slide_type": "subslide"
    }
   },
   "outputs": [],
   "source": [
    "# 7.2\n",
    "\n",
    "alt.themes.enable('fivethirtyeight')   # try vox, dark, etc.\n",
    "\n",
    "alt.Chart(mtcars).mark_point(filled=True).encode(\n",
    "    x='MPG',\n",
    "    y=\"weight\",\n",
    "    color=\"transmission:N\"\n",
    ").properties(title=\"Test\")\n",
    "\n"
   ]
  },
  {
   "cell_type": "code",
   "execution_count": null,
   "metadata": {
    "slideshow": {
     "slide_type": "subslide"
    }
   },
   "outputs": [],
   "source": [
    "# 7.3 to go back to the default, use this\n",
    "alt.themes.enable('default')\n",
    "\n",
    "x=alt.Chart(mtcars).mark_point(filled=True).encode(\n",
    "    x='MPG',\n",
    "    y=\"weight\",\n",
    "    color=\"transmission:N\"\n",
    ")\n",
    "x"
   ]
  },
  {
   "cell_type": "markdown",
   "metadata": {},
   "source": [
    "Recall at the beginning of this notebook, we said that every chart is a json object. Let's look at it!"
   ]
  },
  {
   "cell_type": "code",
   "execution_count": null,
   "metadata": {},
   "outputs": [],
   "source": [
    "x.to_dict()"
   ]
  },
  {
   "cell_type": "markdown",
   "metadata": {
    "colab": {},
    "colab_type": "code",
    "id": "CEjTExP0gSZl",
    "slideshow": {
     "slide_type": "slide"
    }
   },
   "source": [
    "# Summary\n",
    "\n",
    "* Altair is a powerful way to produce Vega-Lite\n",
    "    * You should think in marks (what shape do I want and for what); \n",
    "    * data (what data do I care about?) \n",
    "    * encodings (what visual thing does the data get mapped to)\n",
    "* Can often pre-process data in Pandas, but...\n",
    "    * there are powerful built in functions in Altair\n",
    "* If you're stuck, look at the documentation for Altair, Vega-Lite (and sometimes Vega)"
   ]
  },
  {
   "cell_type": "code",
   "execution_count": null,
   "metadata": {},
   "outputs": [],
   "source": []
  }
 ],
 "metadata": {
  "celltoolbar": "Slideshow",
  "colab": {
   "collapsed_sections": [
    "McaviwyMvFaQ",
    "cWxMZGtAu0cx"
   ],
   "name": "lab2_demo.ipynb",
   "provenance": []
  },
  "kernelspec": {
   "display_name": "Python 3 (ipykernel)",
   "language": "python",
   "name": "python3"
  },
  "language_info": {
   "codemirror_mode": {
    "name": "ipython",
    "version": 3
   },
   "file_extension": ".py",
   "mimetype": "text/x-python",
   "name": "python",
   "nbconvert_exporter": "python",
   "pygments_lexer": "ipython3",
   "version": "3.13.1"
  },
  "toc": {
   "colors": {
    "hover_highlight": "#DAA520",
    "running_highlight": "#FF0000",
    "selected_highlight": "#FFD700"
   },
   "moveMenuLeft": true,
   "nav_menu": {
    "height": "12px",
    "width": "252px"
   },
   "navigate_menu": true,
   "number_sections": false,
   "sideBar": true,
   "threshold": 4,
   "toc_cell": false,
   "toc_position": {
    "height": "102.326px",
    "left": "0px",
    "right": "946px",
    "top": "110.052px",
    "width": "235.33px"
   },
   "toc_section_display": "none",
   "toc_window_display": true,
   "widenNotebook": false
  }
 },
 "nbformat": 4,
 "nbformat_minor": 4
}
