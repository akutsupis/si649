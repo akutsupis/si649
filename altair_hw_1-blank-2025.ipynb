{
 "cells": [
  {
   "cell_type": "markdown",
   "id": "2f2978f6",
   "metadata": {},
   "source": [
    "# SI649 W23 Altair Homework #1\n",
    "\n",
    "## Overview \n",
    "\n",
    "For this assignment we're going to recreate a visualization from a FiveThirtyEight article (https://fivethirtyeight.com/features/competitive-hot-dog-eaters-have-made-america-great-again/), as well as some new and different ones. We'll be teaching you different pieces of Altair over the next few weeks so we'll focus on just a few basic chart times this time:\n",
    "\n",
    "1.   Replicate 1 visualizations from the original article (slightly modified)\n",
    "2.   Implementing 4 new visualizations according to our specifications\n",
    "\n",
    "\n",
    "### Lab Instructions (read the full version on the handout of the previous lab)\n",
    "\n",
    "*   Save, rename, and submit the ipynb file (use your username in the name).\n",
    "*   Complete all the checkpoints, to create the required visualization at each cell\n",
    "*   Run every cell (do Runtime -> Restart and run all to make sure you have a clean working version), print to pdf, submit the pdf file. \n",
    "*   For each visualization, we will ask you to write down a \"Grammar of Graphics\" plan first (basically a description of what you'll code).\n",
    "*   If you end up stuck, show us your work by including links (URLs) that you have searched for. You'll get partial credit for showing your work in progress. \n",
    "\n",
    "You may also want to, on your own, go through some additional Altair tutorials:\n",
    "- [UW Course](https://github.com/uwdata/visualization-curriculum)\n",
    "- [Altair tutorial](https://github.com/altair-viz/altair-tutorial)\n",
    "\n",
    "### Resources\n",
    "- [Altair Documentation](https://altair-viz.github.io/index.html)\n",
    "- [Colab Overview](https://colab.research.google.com/notebooks/basic_features_overview.ipynb)\n",
    "- [Markdown Cheatsheet](https://www.markdownguide.org/cheat-sheet/)\n",
    "- [Pandas DataFrame Introduction](https://pandas.pydata.org/pandas-docs/stable/getting_started/10min.html)\n",
    "- Vega-Lite documentation\n",
    "- Vega/Vega-Lite editor\n"
   ]
  },
  {
   "cell_type": "code",
   "execution_count": 1,
   "id": "abb3c839",
   "metadata": {},
   "outputs": [
    {
     "data": {
      "text/plain": [
       "RendererRegistry.enable('html')"
      ]
     },
     "execution_count": 1,
     "metadata": {},
     "output_type": "execute_result"
    }
   ],
   "source": [
    "# imports we will use\n",
    "import altair as alt\n",
    "import pandas as pd\n",
    "import datetime as dt\n",
    "from altair_saver import save\n",
    "#from collections import defaultdict\n",
    "alt.renderers.enable('html') #run this line if you are running jupyter notebook"
   ]
  },
  {
   "cell_type": "code",
   "execution_count": 2,
   "id": "3b1822d0",
   "metadata": {},
   "outputs": [
    {
     "name": "stdout",
     "output_type": "stream",
     "text": [
      "(2315, 7)\n"
     ]
    },
    {
     "data": {
      "text/html": [
       "<div>\n",
       "<style scoped>\n",
       "    .dataframe tbody tr th:only-of-type {\n",
       "        vertical-align: middle;\n",
       "    }\n",
       "\n",
       "    .dataframe tbody tr th {\n",
       "        vertical-align: top;\n",
       "    }\n",
       "\n",
       "    .dataframe thead th {\n",
       "        text-align: right;\n",
       "    }\n",
       "</style>\n",
       "<table border=\"1\" class=\"dataframe\">\n",
       "  <thead>\n",
       "    <tr style=\"text-align: right;\">\n",
       "      <th></th>\n",
       "      <th>Place</th>\n",
       "      <th>Consumed</th>\n",
       "      <th>Name</th>\n",
       "      <th>Contest</th>\n",
       "      <th>Location</th>\n",
       "      <th>Date</th>\n",
       "      <th>Minutes</th>\n",
       "    </tr>\n",
       "  </thead>\n",
       "  <tbody>\n",
       "    <tr>\n",
       "      <th>869</th>\n",
       "      <td>12th</td>\n",
       "      <td>7</td>\n",
       "      <td>Nikki Rodriguez</td>\n",
       "      <td>Nathan's Famous Hot Dog Eating Contest - women</td>\n",
       "      <td>Brooklyn, NY</td>\n",
       "      <td>2014-07-04</td>\n",
       "      <td>10.0</td>\n",
       "    </tr>\n",
       "    <tr>\n",
       "      <th>949</th>\n",
       "      <td>2nd</td>\n",
       "      <td>7</td>\n",
       "      <td>Katie Boykin</td>\n",
       "      <td>Nathan's Famous Hot Dog Eating Contest Qualifi...</td>\n",
       "      <td>Charlotte, NC</td>\n",
       "      <td>2014-05-24</td>\n",
       "      <td>10.0</td>\n",
       "    </tr>\n",
       "    <tr>\n",
       "      <th>55</th>\n",
       "      <td>16th</td>\n",
       "      <td>21.5</td>\n",
       "      <td>Pablo Martinez</td>\n",
       "      <td>Nathan's Famous Hot Dog Eating Contest - men</td>\n",
       "      <td>Brooklyn, NY</td>\n",
       "      <td>2021-07-04</td>\n",
       "      <td>10.0</td>\n",
       "    </tr>\n",
       "    <tr>\n",
       "      <th>1809</th>\n",
       "      <td>2nd</td>\n",
       "      <td>26.5</td>\n",
       "      <td>Brad \"The Lunatic\" Sciullo</td>\n",
       "      <td>Nathan's Famous Hot Dog Eating Contest qualifier</td>\n",
       "      <td>West Chester, PA</td>\n",
       "      <td>2007-06-28</td>\n",
       "      <td>12.0</td>\n",
       "    </tr>\n",
       "    <tr>\n",
       "      <th>2294</th>\n",
       "      <td>2nd</td>\n",
       "      <td>13</td>\n",
       "      <td>Robert Gerber</td>\n",
       "      <td>Nathan's Famous Hot Dog Eating Contest</td>\n",
       "      <td>Brooklyn, NY</td>\n",
       "      <td>1986-07-04</td>\n",
       "      <td>10.0</td>\n",
       "    </tr>\n",
       "  </tbody>\n",
       "</table>\n",
       "</div>"
      ],
      "text/plain": [
       "     Place Consumed                        Name  \\\n",
       "869   12th        7             Nikki Rodriguez   \n",
       "949    2nd        7                Katie Boykin   \n",
       "55    16th     21.5              Pablo Martinez   \n",
       "1809   2nd     26.5  Brad \"The Lunatic\" Sciullo   \n",
       "2294   2nd       13               Robert Gerber   \n",
       "\n",
       "                                                Contest          Location  \\\n",
       "869      Nathan's Famous Hot Dog Eating Contest - women      Brooklyn, NY   \n",
       "949   Nathan's Famous Hot Dog Eating Contest Qualifi...     Charlotte, NC   \n",
       "55         Nathan's Famous Hot Dog Eating Contest - men      Brooklyn, NY   \n",
       "1809   Nathan's Famous Hot Dog Eating Contest qualifier  West Chester, PA   \n",
       "2294             Nathan's Famous Hot Dog Eating Contest      Brooklyn, NY   \n",
       "\n",
       "            Date  Minutes  \n",
       "869   2014-07-04     10.0  \n",
       "949   2014-05-24     10.0  \n",
       "55    2021-07-04     10.0  \n",
       "1809  2007-06-28     12.0  \n",
       "2294  1986-07-04     10.0  "
      ]
     },
     "execution_count": 2,
     "metadata": {},
     "output_type": "execute_result"
    }
   ],
   "source": [
    "# Load the data we'll need (available on Canvs)\n",
    "df = pd.read_csv('hotdogs_clean.csv', header=0, index_col=0)\n",
    "print(df.shape)\n",
    "df.sample(5)"
   ]
  },
  {
   "cell_type": "code",
   "execution_count": 3,
   "id": "5817bae2",
   "metadata": {},
   "outputs": [
    {
     "data": {
      "text/plain": [
       "(2037, 7)"
      ]
     },
     "execution_count": 3,
     "metadata": {},
     "output_type": "execute_result"
    }
   ],
   "source": [
    "# Drop rows with question marks (?) for Place or Consumed\n",
    "df = df[(df['Place'] != '?') & (df['Consumed'] != '?')]\n",
    "df.shape"
   ]
  },
  {
   "cell_type": "code",
   "execution_count": 4,
   "id": "8e97302a",
   "metadata": {},
   "outputs": [
    {
     "data": {
      "text/plain": [
       "Place        object\n",
       "Consumed     object\n",
       "Name         object\n",
       "Contest      object\n",
       "Location     object\n",
       "Date         object\n",
       "Minutes     float64\n",
       "dtype: object"
      ]
     },
     "execution_count": 4,
     "metadata": {},
     "output_type": "execute_result"
    }
   ],
   "source": [
    "# Check the data types\n",
    "df.dtypes"
   ]
  },
  {
   "cell_type": "code",
   "execution_count": 5,
   "id": "635925f6",
   "metadata": {},
   "outputs": [
    {
     "data": {
      "text/plain": [
       "Place               object\n",
       "Consumed           float64\n",
       "Name                object\n",
       "Contest             object\n",
       "Location            object\n",
       "Date        datetime64[ns]\n",
       "Minutes            float64\n",
       "dtype: object"
      ]
     },
     "execution_count": 5,
     "metadata": {},
     "output_type": "execute_result"
    }
   ],
   "source": [
    "# Now that we've dropped the question marks, convert the Consumed and Date columns to the right data types\n",
    "df['Consumed'] = df['Consumed'].astype('float')\n",
    "df['Date'] = pd.to_datetime(df['Date'])\n",
    "df.dtypes"
   ]
  },
  {
   "cell_type": "code",
   "execution_count": 6,
   "id": "5e9c0718",
   "metadata": {},
   "outputs": [
    {
     "data": {
      "text/html": [
       "<div>\n",
       "<style scoped>\n",
       "    .dataframe tbody tr th:only-of-type {\n",
       "        vertical-align: middle;\n",
       "    }\n",
       "\n",
       "    .dataframe tbody tr th {\n",
       "        vertical-align: top;\n",
       "    }\n",
       "\n",
       "    .dataframe thead th {\n",
       "        text-align: right;\n",
       "    }\n",
       "</style>\n",
       "<table border=\"1\" class=\"dataframe\">\n",
       "  <thead>\n",
       "    <tr style=\"text-align: right;\">\n",
       "      <th></th>\n",
       "      <th>Place</th>\n",
       "      <th>Consumed</th>\n",
       "      <th>Name</th>\n",
       "      <th>Contest</th>\n",
       "      <th>Location</th>\n",
       "      <th>Date</th>\n",
       "      <th>Minutes</th>\n",
       "    </tr>\n",
       "  </thead>\n",
       "  <tbody>\n",
       "    <tr>\n",
       "      <th>1375</th>\n",
       "      <td>5th</td>\n",
       "      <td>34.0</td>\n",
       "      <td>Bob \"The Notorious B.O.B.\" Shoudt</td>\n",
       "      <td>Nathan's Famous Hot Dog Eating Contest</td>\n",
       "      <td>Brooklyn, NY</td>\n",
       "      <td>2010-07-04</td>\n",
       "      <td>10.0</td>\n",
       "    </tr>\n",
       "    <tr>\n",
       "      <th>973</th>\n",
       "      <td>3rd</td>\n",
       "      <td>17.0</td>\n",
       "      <td>Ronnie \"MegaByte\" Hartman</td>\n",
       "      <td>Nathan's Famous Hot Dog Eating Contest Qualifi...</td>\n",
       "      <td>Tunica, MS</td>\n",
       "      <td>2013-12-14</td>\n",
       "      <td>10.0</td>\n",
       "    </tr>\n",
       "    <tr>\n",
       "      <th>1484</th>\n",
       "      <td>11th</td>\n",
       "      <td>5.0</td>\n",
       "      <td>Tom Mackey</td>\n",
       "      <td>Nathan's Famous Hot Dog Eating Contest qualifier</td>\n",
       "      <td>Foxborough (Boston), MA</td>\n",
       "      <td>2010-05-08</td>\n",
       "      <td>10.0</td>\n",
       "    </tr>\n",
       "    <tr>\n",
       "      <th>2018</th>\n",
       "      <td>4th</td>\n",
       "      <td>12.5</td>\n",
       "      <td>Andrew \"A Bomb\" Lane</td>\n",
       "      <td>Nathan's Famous Hot Dog Eating Contest qualifier</td>\n",
       "      <td>Las Vegas, NV</td>\n",
       "      <td>2006-05-18</td>\n",
       "      <td>12.0</td>\n",
       "    </tr>\n",
       "    <tr>\n",
       "      <th>933</th>\n",
       "      <td>1st</td>\n",
       "      <td>9.0</td>\n",
       "      <td>Margo Hill</td>\n",
       "      <td>Nathan's Famous Hot Dog Eating Contest Qualifi...</td>\n",
       "      <td>St. Paul, MN</td>\n",
       "      <td>2014-06-01</td>\n",
       "      <td>10.0</td>\n",
       "    </tr>\n",
       "  </tbody>\n",
       "</table>\n",
       "</div>"
      ],
      "text/plain": [
       "     Place  Consumed                               Name  \\\n",
       "1375   5th      34.0  Bob \"The Notorious B.O.B.\" Shoudt   \n",
       "973    3rd      17.0          Ronnie \"MegaByte\" Hartman   \n",
       "1484  11th       5.0                         Tom Mackey   \n",
       "2018   4th      12.5               Andrew \"A Bomb\" Lane   \n",
       "933    1st       9.0                         Margo Hill   \n",
       "\n",
       "                                                Contest  \\\n",
       "1375             Nathan's Famous Hot Dog Eating Contest   \n",
       "973   Nathan's Famous Hot Dog Eating Contest Qualifi...   \n",
       "1484   Nathan's Famous Hot Dog Eating Contest qualifier   \n",
       "2018   Nathan's Famous Hot Dog Eating Contest qualifier   \n",
       "933   Nathan's Famous Hot Dog Eating Contest Qualifi...   \n",
       "\n",
       "                     Location       Date  Minutes  \n",
       "1375             Brooklyn, NY 2010-07-04     10.0  \n",
       "973                Tunica, MS 2013-12-14     10.0  \n",
       "1484  Foxborough (Boston), MA 2010-05-08     10.0  \n",
       "2018            Las Vegas, NV 2006-05-18     12.0  \n",
       "933              St. Paul, MN 2014-06-01     10.0  "
      ]
     },
     "execution_count": 6,
     "metadata": {},
     "output_type": "execute_result"
    }
   ],
   "source": [
    "df.sample(5)"
   ]
  },
  {
   "cell_type": "code",
   "execution_count": 7,
   "id": "47de981c",
   "metadata": {},
   "outputs": [
    {
     "data": {
      "text/plain": [
       "(1501, 7)"
      ]
     },
     "execution_count": 7,
     "metadata": {},
     "output_type": "execute_result"
    }
   ],
   "source": [
    "# Finally, drop the data from 2017 onwards, and the very short and long contests\n",
    "# This more closely matches the data used by FiveThirtyEight, although there are still some minor differences\n",
    "df = df[(df['Date'] < dt.datetime(2017, 1, 1)) & (df['Minutes'] >= 5) & (df['Minutes'] < 60)]\n",
    "df.shape"
   ]
  },
  {
   "cell_type": "markdown",
   "id": "9aade26e",
   "metadata": {},
   "source": [
    "# Task #1\n",
    "\n",
    "### First, let's examine the distribution of contests by length (in minutes). Recreate the visualization below"
   ]
  },
  {
   "cell_type": "markdown",
   "id": "304f289d",
   "metadata": {},
   "source": [
    "![](https://raw.githubusercontent.com/dallascard/SI649_public/main/altair_hw1/task1-final.png)"
   ]
  },
  {
   "cell_type": "code",
   "execution_count": 8,
   "id": "b1805b3e",
   "metadata": {},
   "outputs": [
    {
     "data": {
      "text/plain": [
       "ThemeRegistry.enable('fivethirtyeight')"
      ]
     },
     "execution_count": 8,
     "metadata": {},
     "output_type": "execute_result"
    }
   ],
   "source": [
    "# Enable the FiveThirtyEight theme\n",
    "alt.theme.enable('fivethirtyeight') "
   ]
  },
  {
   "cell_type": "markdown",
   "id": "17fd1698",
   "metadata": {},
   "source": [
    "### Step 1: Write down your plan for the visualization (edit this cell)\n",
    "\n",
    "*   mark type: *TODO:write your answer here (e.g., point or area)*\n",
    "*   Encoding Specification:  \n",
    "*   > x : *TODO : write your answer here (x? y? N? Q? O?)*\n",
    "*   > y : *TODO : write your answer here (x? y? N? Q? O?)*\n",
    "\n",
    "Example encoding, if we had the nominal variable 'Location' and we wanted to use color, it would be:\n",
    "\n",
    "color : Location : nominal\n"
   ]
  },
  {
   "cell_type": "markdown",
   "id": "1bb62f29",
   "metadata": {},
   "source": [
    "### Step 2: Create your chart, step by step\n",
    "\n",
    "For each task, look at all the checkpoints. You can follow the checkpoint to work through the problem step-by-step. For each checkpoint, you should add code to the cell below it so as to create the required visualizaion. You can search for the keyword \"TODO\" to locate cells that need your edits\n"
   ]
  },
  {
   "cell_type": "markdown",
   "id": "b369a078",
   "metadata": {},
   "source": [
    "#### checkpoint 1: basic histogram chart. You will get full point if you:\n",
    " \n",
    "\n",
    "*  Plot the right data\n",
    "*  Specify the correct mark \n",
    "*  Use the correct x and y encoding \n",
    "\n",
    "You chart should look like: (it's okay if the grid lines don't exactly match)\n",
    "\n",
    "\n",
    "![](https://raw.githubusercontent.com/dallascard/SI649_public/main/altair_hw1/task1-checkpoint1.png)"
   ]
  },
  {
   "cell_type": "code",
   "execution_count": 22,
   "id": "191729bf",
   "metadata": {},
   "outputs": [],
   "source": [
    "#TODO: Replicate task 1, checkpoint 1\n",
    "\n"
   ]
  },
  {
   "cell_type": "markdown",
   "id": "e7e1302e",
   "metadata": {},
   "source": [
    "#### checkpoint 2: basic bar chart with title and axis labels. You will get full point if you:\n",
    "\n",
    "*  Completed checkpoint 1\n",
    "*  Add the proper labels on x-axis and y-axis\n",
    "*  Add a chart title\n",
    "\n",
    "You chart should look like: (it's okay if the grid lines don't exactly match)\n",
    "\n",
    "\n",
    "![](https://raw.githubusercontent.com/dallascard/SI649_public/main/altair_hw1/task1-final.png)"
   ]
  },
  {
   "cell_type": "code",
   "execution_count": 23,
   "id": "d21f6a20",
   "metadata": {},
   "outputs": [],
   "source": [
    "#TODO: Replicate task 1, checkpoint 2\n",
    "\n"
   ]
  },
  {
   "cell_type": "markdown",
   "id": "b0d35af0",
   "metadata": {},
   "source": [
    "# Task #2\n",
    "\n",
    "### Now, let's recreate a visualization from the FiveThirtyEight article\n",
    "\n",
    "### Here is the original:"
   ]
  },
  {
   "cell_type": "markdown",
   "id": "25f94f64",
   "metadata": {},
   "source": [
    "![orig](https://fivethirtyeight.com/wp-content/uploads/2016/07/hickey-nathans-1.png?w=1150)"
   ]
  },
  {
   "cell_type": "markdown",
   "id": "46a26a59",
   "metadata": {},
   "source": [
    "\n",
    "## We'll learn how to get closer to the original next week (using layering), but for now, we'll make a slightly modified version.\n",
    "\n",
    "### Here is what you should aim to create:\n"
   ]
  },
  {
   "cell_type": "markdown",
   "id": "3d5a8942",
   "metadata": {},
   "source": [
    "![](https://raw.githubusercontent.com/dallascard/SI649_public/main/altair_hw1/task2-final-resized.png)"
   ]
  },
  {
   "cell_type": "markdown",
   "id": "2febb5de",
   "metadata": {},
   "source": [
    "## Step 1: Write down your plan for the visualization (edit this cell)\n",
    "\n",
    "*   mark type: *TODO: write your answer here (e.g., point or area)*\n",
    "*   Encoding Specification:  \n",
    "*   > x : *TODO: write your answer here (x? y? N? Q? O?)*\n",
    "*   > y : *TODO: write your answer here (x? y? N? Q? O?)*\n",
    "*   > color : *TODO: write your answer here (x? y? N? Q? O?)*\n",
    "*   > opacity : *TODO: write your answer here (x? y? N? Q? O?)*\n"
   ]
  },
  {
   "cell_type": "markdown",
   "id": "45681acb",
   "metadata": {},
   "source": [
    "## Step 2: Transform the relevant data using pandas\n",
    "\n",
    "### We need to idenfity which records were for qualifiers, and which were winners\n",
    "\n"
   ]
  },
  {
   "cell_type": "code",
   "execution_count": 9,
   "id": "64c961db",
   "metadata": {},
   "outputs": [],
   "source": [
    "# First, let's identify the winners\n",
    "# Note: there are many ways to do this; this is not compact, but it is fairly easy to understand\n",
    "\n",
    "winners = []\n",
    "for val in df['Place']:\n",
    "    if val == '1st':\n",
    "        winners.append('Winner')\n",
    "    else:\n",
    "        winners.append('Loser')\n",
    "df['Winners'] = winners\n"
   ]
  },
  {
   "cell_type": "code",
   "execution_count": 10,
   "id": "3b10a194",
   "metadata": {},
   "outputs": [],
   "source": [
    "# Repeat the above process to identify the records that correspond to qualifiers, and add a column to the dataframe\n",
    "\n",
    "qualifiers = []\n",
    "\n",
    "### TODO: fill in the code necessary to identify the qualifiers, based on the above\n"
   ]
  },
  {
   "cell_type": "markdown",
   "id": "9e0f7835",
   "metadata": {},
   "source": [
    "## Step 3: Create your chart, step by step\n"
   ]
  },
  {
   "cell_type": "markdown",
   "id": "76a9e578",
   "metadata": {},
   "source": [
    "#### checkpoint 1: basic scatter plot of Year vs Number of Hot Dogs Consumed. You will get full point if you:\n",
    " \n",
    "*  Plot the right data\n",
    "*  Specify the correct mark \n",
    "*  Use the correct x and y encoding (including converting dates to years)\n",
    "\n",
    "You chart should look like:\n",
    "\n",
    "![](https://raw.githubusercontent.com/dallascard/SI649_public/main/altair_hw1/task2-checkpoint1.png)\n"
   ]
  },
  {
   "cell_type": "code",
   "execution_count": 26,
   "id": "3a3caf98",
   "metadata": {},
   "outputs": [],
   "source": [
    "#TODO: Replicate task 2, checkpoint 1\n",
    "\n"
   ]
  },
  {
   "cell_type": "markdown",
   "id": "73aea11f",
   "metadata": {},
   "source": [
    "#### checkpoint 2:  add color to the above scatterplot, corresponding to which records are qualifiers. You will get full point if you:\n",
    " \n",
    "*  Completed checkpoint 1\n",
    "*  Add a color channel to distinguish qualifiers from finals\n",
    "\n",
    "\n",
    "You chart should look like:\n",
    "\n",
    "![](https://raw.githubusercontent.com/dallascard/SI649_public/main/altair_hw1/task2-checkpoint2.png)\n"
   ]
  },
  {
   "cell_type": "code",
   "execution_count": 27,
   "id": "7dee8159",
   "metadata": {},
   "outputs": [],
   "source": [
    "#TODO: Replicate task 2, checkpoint 2\n"
   ]
  },
  {
   "cell_type": "markdown",
   "id": "dc29e455",
   "metadata": {},
   "source": [
    "#### checkpoint 3: add opacity values corresponding to 1st place vs other. You will get full point if you:\n",
    "\n",
    " \n",
    "*  Completed checkpoint 2\n",
    "*  Add an opacity channel to distinguish 1st place winners vs all other competitors\n",
    "\n",
    "\n",
    "You chart should look like:\n",
    "\n",
    "![](https://raw.githubusercontent.com/dallascard/SI649_public/main/altair_hw1/task2-checkpoint3.png)\n"
   ]
  },
  {
   "cell_type": "code",
   "execution_count": 28,
   "id": "c6e0084a",
   "metadata": {},
   "outputs": [],
   "source": [
    "#TODO: Replicate task 2, checkpoint 3\n"
   ]
  },
  {
   "cell_type": "markdown",
   "id": "5c956dca",
   "metadata": {},
   "source": [
    "#### checkpoint 4:  adjust the colors and opacity levels to match the plot specification. You will get full point if you:\n",
    "\n",
    "\n",
    "*  Completed checkpoint 3\n",
    "*  Change the colors to be red and orange\n",
    "*  Change the opacity levels to be specific values\n",
    "\n",
    "You chart should look like:\n",
    "\n",
    "![](https://raw.githubusercontent.com/dallascard/SI649_public/main/altair_hw1/task2-checkpoint4.png)\n"
   ]
  },
  {
   "cell_type": "code",
   "execution_count": 29,
   "id": "aece92a5",
   "metadata": {},
   "outputs": [],
   "source": [
    "#TODO: Replicate task 2, checkpoint 4\n",
    "\n",
    "# Hint: you can set the target colors and opacity levels using scale=alt.Scale() as an argument of alt.Color() or alt.Opacity()\n",
    "# good colors for the plot are \"red\" and \"orange\"\n",
    "# good opacity levels are 0.4 and 0.1\n"
   ]
  },
  {
   "cell_type": "markdown",
   "id": "7f78528e",
   "metadata": {},
   "source": [
    "#### checkpoint 5: add labels and title; adjust plot size; increase point size. You will get full point if you:\n",
    "\n",
    " \n",
    "*  Completed checkpoint 4\n",
    "*  Increase the mark size to 100\n",
    "*  Remove the x-axis label\n",
    "*  Change the y-axis label\n",
    "*  Add a chart title (and subtitle if you can)\n",
    "*  Change the plot dimensions to 500 x 400\n",
    "\n",
    "You chart should look like:\n",
    "\n",
    "![](https://raw.githubusercontent.com/dallascard/SI649_public/main/altair_hw1/task2-checkpoint5-resized.png)\n",
    "\n",
    "\n"
   ]
  },
  {
   "cell_type": "code",
   "execution_count": 30,
   "id": "419a982a",
   "metadata": {},
   "outputs": [],
   "source": [
    "#TODO: Replicate task 2, checkpoint 5\n",
    "\n"
   ]
  },
  {
   "cell_type": "markdown",
   "id": "3bc0c80c",
   "metadata": {},
   "source": [
    "#### checkpoint 6 (BONUS): Move the legends to the top of the plot and make it horizontal with a larger font. You will get full point if you:\n",
    "\n",
    " \n",
    "*  Completed checkpoint 5\n",
    "*  Move the legends to the top of the plot\n",
    "*  Lay them out horizontally\n",
    "*  Increase the plot size in the legend\n",
    "\n",
    "You chart should look like:\n",
    "\n",
    "![](https://raw.githubusercontent.com/dallascard/SI649_public/main/altair_hw1/task2-final-resized.png)\n",
    "\n",
    "\n"
   ]
  },
  {
   "cell_type": "code",
   "execution_count": 31,
   "id": "c9978a20",
   "metadata": {},
   "outputs": [],
   "source": [
    "#TODO: Replicate task 2, checkpoint 6\n"
   ]
  },
  {
   "cell_type": "markdown",
   "id": "10e665a3",
   "metadata": {},
   "source": [
    "# Task #3\n",
    "\n",
    "### Create another new plot, showing the maximum hot dogs consumed per year, in qualifiers and finals\n",
    "\n"
   ]
  },
  {
   "cell_type": "markdown",
   "id": "7945b079",
   "metadata": {},
   "source": [
    "Here is what you should aim to create:\n",
    "\n",
    "![](https://raw.githubusercontent.com/dallascard/SI649_public/main/altair_hw1/task3-final.png)\n"
   ]
  },
  {
   "cell_type": "markdown",
   "id": "5eb651e3",
   "metadata": {},
   "source": [
    "## Step 1: Write down your plan for the visualization (edit this cell)\n",
    "\n",
    "*   mark type: *TODO:write your answer here (e.g., point or area)*\n",
    "*   Encoding Specification:  \n",
    "*   > x : *TODO:write your answer here (x? y? N? Q? O?)*\n",
    "*   > y : *TODO:write your answer here (x? y? N? Q? O?)*\n",
    "*   > color : *TODO:write your answer here (x? y? N? Q? O?)*\n"
   ]
  },
  {
   "cell_type": "markdown",
   "id": "7800be5b",
   "metadata": {},
   "source": [
    "## Step 2: Create your chart, step by step\n"
   ]
  },
  {
   "cell_type": "markdown",
   "id": "ec662eab",
   "metadata": {},
   "source": [
    "#### checkpoint 1: plot the maximum per year, with a different color for qualifiers vs finals. You will get full point if you:\n",
    "\n",
    " \n",
    "*  Plot the right data\n",
    "*  Specify the correct mark \n",
    "*  Use the correct x, y, and color encodings\n",
    "\n",
    "You chart should look like:\n",
    "\n",
    "![](https://raw.githubusercontent.com/dallascard/SI649_public/main/altair_hw1/task3-checkpoint1.png)"
   ]
  },
  {
   "cell_type": "code",
   "execution_count": 32,
   "id": "5864e8af",
   "metadata": {},
   "outputs": [],
   "source": [
    "#TODO: Replicate task 3, checkpoint 1\n",
    "\n"
   ]
  },
  {
   "cell_type": "markdown",
   "id": "e7abe50e",
   "metadata": {},
   "source": [
    "#### checkpoint 2: change the colors to match the target plot, add points, and clean up labels and title. You will get full point if you:\n",
    "\n",
    " \n",
    "*  Completed checkpoint 1\n",
    "*  Change the colors to match Task 2\n",
    "*  add points to the line pot\n",
    "*  Change the x-axis and y-axis labels to match the specificatio\n",
    "*  Add a plot title\n",
    "\n",
    "You chart should look like:\n",
    "\n",
    "![](https://raw.githubusercontent.com/dallascard/SI649_public/main/altair_hw1/task3-final.png)\n",
    "\n"
   ]
  },
  {
   "cell_type": "code",
   "execution_count": 33,
   "id": "4369ce60",
   "metadata": {},
   "outputs": [],
   "source": [
    "#TODO: Replicate task 3, checkpoint 2\n",
    "\n",
    "# hint, you can use mark_line(point=True) to add points to a line plot\n"
   ]
  },
  {
   "cell_type": "markdown",
   "id": "c32d8e01",
   "metadata": {},
   "source": [
    "# Task #4\n",
    "\n",
    "### Create a pair of plots, showing the Winners of Finals of the 10 minute competitions\n",
    "\n"
   ]
  },
  {
   "cell_type": "markdown",
   "id": "d70c2928",
   "metadata": {},
   "source": [
    "Here is what you should aim to create:\n",
    "\n",
    "![](https://raw.githubusercontent.com/dallascard/SI649_public/main/altair_hw1/task4-final-fix2.png)\n"
   ]
  },
  {
   "cell_type": "markdown",
   "id": "a0a0f192",
   "metadata": {},
   "source": [
    "## Step 1: Write down your plan for the visualization (edit this cell)\n",
    "\n",
    "Left chart:\n",
    "*   mark type: *TODO: write your answer here*\n",
    "*   Encoding Specification:  \n",
    "*   > x:*TODO: write your answer here (x? y? N? Q? O?)*\n",
    "*   > y: *TODO: write your answer here (x? y? N? Q? O?)*\n",
    "\n",
    "\n",
    "Right chart:\n",
    "*   mark type: *TODO: write your answer here*\n",
    "*   Encoding Specification:  \n",
    "*   > x:*TODO: write your answer here (x? y? N? Q? O?)*\n",
    "*   > y: *TODO: write your answer here (x? y? N? Q? O?)*\n",
    "\n",
    "Compound Method (how to join these charts together?): *TODO:write your answer here*"
   ]
  },
  {
   "cell_type": "markdown",
   "id": "9e7a8f7e",
   "metadata": {},
   "source": [
    "## Step 2: select the relevant data using pandas\n",
    "\n",
    "### Select the set of rows where:\n",
    "- Place = 1st\n",
    "- The competition is a NOT a qualifier\n",
    "- The Duration is 10 minutes\n"
   ]
  },
  {
   "cell_type": "code",
   "execution_count": 34,
   "id": "10a4dedf",
   "metadata": {},
   "outputs": [],
   "source": [
    "# TODO: Extract a subset of the rows to match the criteria given above\n",
    "\n",
    "# Hint, refer back to where we excluded the \"?\" values above, for a hint on how to do this\n",
    "# Hint, this should give you 26 rows, when selected from the filtered data frame above\n",
    "# Note: there is some ambiguity in what counts as a qualifier. To get 26 rows, exclude every row where Contest contains the string \"qualifer\" (upper or lower case)\n",
    "# Alternatively, if you get a slightly different number (e.g., 27) that will also be accepted, but will produce slightly different plots\n"
   ]
  },
  {
   "cell_type": "markdown",
   "id": "78b390c5",
   "metadata": {},
   "source": [
    "## Step 3: Create your chart\n"
   ]
  },
  {
   "cell_type": "markdown",
   "id": "73ee7fb1",
   "metadata": {},
   "source": [
    "#### checkpoint 1: plot the number of hot dogs consumed by each competitor in the 10 minute finals they have won. You will get full point if you:\n",
    "\n",
    "*  Plot the right data\n",
    "*  Specify the correct mark \n",
    "*  Use the correct x and y encodings\n",
    "\n",
    "You chart should look like:\n",
    "\n",
    "![](https://raw.githubusercontent.com/dallascard/SI649_public/main/altair_hw1/task4-checkpoint1.png)"
   ]
  },
  {
   "cell_type": "code",
   "execution_count": 35,
   "id": "73f923f1",
   "metadata": {},
   "outputs": [],
   "source": [
    "#TODO: Replicate task 4, checkpoint 1\n",
    "\n"
   ]
  },
  {
   "cell_type": "markdown",
   "id": "cd455ec8",
   "metadata": {},
   "source": [
    "#### checkpoint 2: sort the names by average number of hot dogs consumed in those competitions. You will get full point if you:\n",
    "\n",
    "*  Completed checkpoint 1\n",
    "*  Sort the names in the proper order\n",
    "\n",
    "You chart should look like:\n",
    "\n",
    "![](https://raw.githubusercontent.com/dallascard/SI649_public/main/altair_hw1/task4-checkpoint2.png)\n",
    "\n"
   ]
  },
  {
   "cell_type": "code",
   "execution_count": 36,
   "id": "997cbaf2",
   "metadata": {},
   "outputs": [],
   "source": [
    "#TODO: Replicate task 4, checkpoint 2\n",
    "\n"
   ]
  },
  {
   "cell_type": "markdown",
   "id": "dd19ecfd",
   "metadata": {},
   "source": [
    "#### checkpoint 3: fix the axis labels, and set the chart width to 200. You will get full point if you:\n",
    "\n",
    "*  Completed checkpoint 2\n",
    "*  Fix the x-axis labels\n",
    "*  Remove the y-axis label\n",
    "*  Set the plot width to be 200\n",
    "\n",
    "You chart should look like:\n",
    "\n",
    "![](https://raw.githubusercontent.com/dallascard/SI649_public/main/altair_hw1/task4-checkpoint3.png)\n",
    "\n"
   ]
  },
  {
   "cell_type": "code",
   "execution_count": 37,
   "id": "4eae90f2",
   "metadata": {},
   "outputs": [],
   "source": [
    "#TODO: Replicate task 4, checkpoint 3\n",
    "\n"
   ]
  },
  {
   "cell_type": "markdown",
   "id": "eacad10f",
   "metadata": {},
   "source": [
    "#### checkpoint 4: plot the number of 10 minute finals competitions won by each competitor as a new chart. You will get full point if you:\n",
    "\n",
    "*  Plot the right data\n",
    "*  Specify the correct mark \n",
    "*  Use the correct x and y encodings\n",
    "\n",
    "You chart should look like:\n",
    "\n",
    "![](https://raw.githubusercontent.com/dallascard/SI649_public/main/altair_hw1/task4-checkpoint4.png)\n",
    "\n",
    "\n",
    " "
   ]
  },
  {
   "cell_type": "code",
   "execution_count": 38,
   "id": "aeca561a",
   "metadata": {},
   "outputs": [],
   "source": [
    "#TODO: Replicate task 4, checkpoint 4\n",
    "\n"
   ]
  },
  {
   "cell_type": "markdown",
   "id": "ca154153",
   "metadata": {},
   "source": [
    "#### checkpoint 5: apply the same sort order as above, and fix the axis labels and width. You will get full point if you:\n",
    "\n",
    "*  Completed checkpoint 4\n",
    "*  Applied the correct sort order\n",
    "*  Fix the x-axis labels\n",
    "*  Remove the y-axis label\n",
    "*  Set the plot width to be 200\n",
    "\n",
    "You chart should look like:\n",
    "\n",
    "![](https://raw.githubusercontent.com/dallascard/SI649_public/main/altair_hw1/task4-checkpoint5.png)\n",
    "\n",
    "\n"
   ]
  },
  {
   "cell_type": "code",
   "execution_count": 39,
   "id": "696d5dd0",
   "metadata": {},
   "outputs": [],
   "source": [
    "#TODO: Replicate task 4, checkpoint 5\n",
    "\n"
   ]
  },
  {
   "cell_type": "markdown",
   "id": "bf47cc9f",
   "metadata": {},
   "source": [
    "#### checkpoint 6: place the two charts side by side. You will get full point if you:\n",
    "\n",
    "*  Completed checkpoints 3 and 5\n",
    "*  Placed the two charts side by side\n",
    "*  Add a title to each chart\n",
    "\n",
    "You chart should look like:\n",
    "![](https://raw.githubusercontent.com/dallascard/SI649_public/main/altair_hw1/task4-final-fix2.png)\n",
    "\n",
    "\n",
    " "
   ]
  },
  {
   "cell_type": "code",
   "execution_count": 40,
   "id": "db5a4fed",
   "metadata": {},
   "outputs": [],
   "source": [
    "#TODO: Replicate task 4, checkpoint 6\n",
    "\n"
   ]
  },
  {
   "cell_type": "markdown",
   "id": "414136bb",
   "metadata": {},
   "source": [
    "*End of Assignment*\n",
    "\n",
    "Please run all cells (Runtime->Run all), and \n",
    "1.  save to PDF \n",
    "    * We suggest using your browser's print feature: File->Print->Save PDF, you can try the notebook File->Download As->PDF, but we've noticed this doesn't work as well. If you're a Windows user and need help, take a look [here](https://www.digitaltrends.com/computing/print-pdf-windows/)\n",
    "2.  save to ipynb (File -> Download .ipynb)\n",
    "\n",
    "Rename both files with your uniqname: e.g. uniqname.pdf/ uniqname.ipynb\n",
    "Upload both files to canvas. \n"
   ]
  },
  {
   "cell_type": "code",
   "execution_count": null,
   "id": "5cd7bb18",
   "metadata": {},
   "outputs": [],
   "source": []
  }
 ],
 "metadata": {
  "kernelspec": {
   "display_name": "Python 3 (ipykernel)",
   "language": "python",
   "name": "python3"
  },
  "language_info": {
   "codemirror_mode": {
    "name": "ipython",
    "version": 3
   },
   "file_extension": ".py",
   "mimetype": "text/x-python",
   "name": "python",
   "nbconvert_exporter": "python",
   "pygments_lexer": "ipython3",
   "version": "3.13.1"
  }
 },
 "nbformat": 4,
 "nbformat_minor": 5
}
